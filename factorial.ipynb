{
  "nbformat": 4,
  "nbformat_minor": 0,
  "metadata": {
    "colab": {
      "name": "factorial",
      "provenance": []
    },
    "kernelspec": {
      "name": "python3",
      "display_name": "Python 3"
    }
  },
  "cells": [
    {
      "cell_type": "code",
      "metadata": {
        "id": "bSlyvw2gEEiO",
        "colab_type": "code",
        "colab": {
          "base_uri": "https://localhost:8080/",
          "height": 151
        },
        "outputId": "d7c90248-5fae-45c5-eb7a-262590defb69"
      },
      "source": [
        "num=int(input())\n",
        "fact=1\n",
        "if num<0:\n",
        "  print(\"factorial doesnt exist\")\n",
        "elif num==0:\n",
        "  print(\"factorial of zero is 1\")\n",
        "else:\n",
        "  for i in range(1,num+1):\n",
        "    fact=fact*i\n",
        "    print(\"factorial of num is:\",fact)\n",
        "  "
      ],
      "execution_count": 2,
      "outputs": [
        {
          "output_type": "stream",
          "text": [
            "7\n",
            "factorial of num is: 1\n",
            "factorial of num is: 2\n",
            "factorial of num is: 6\n",
            "factorial of num is: 24\n",
            "factorial of num is: 120\n",
            "factorial of num is: 720\n",
            "factorial of num is: 5040\n"
          ],
          "name": "stdout"
        }
      ]
    },
    {
      "cell_type": "code",
      "metadata": {
        "id": "J35h_nROEeRG",
        "colab_type": "code",
        "colab": {}
      },
      "source": [
        ""
      ],
      "execution_count": null,
      "outputs": []
    }
  ]
}