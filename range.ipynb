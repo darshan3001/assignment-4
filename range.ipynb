{
  "nbformat": 4,
  "nbformat_minor": 0,
  "metadata": {
    "colab": {
      "name": "range",
      "provenance": []
    },
    "kernelspec": {
      "name": "python3",
      "display_name": "Python 3"
    }
  },
  "cells": [
    {
      "cell_type": "code",
      "metadata": {
        "id": "DQqV9k3_CovQ",
        "colab_type": "code",
        "colab": {}
      },
      "source": [
        "def range(n):\n",
        "  if n in range(1,9):\n",
        "    print(\"number is inside the range\")\n",
        "  else:\n",
        "    print(\"number is outside the range\")\n"
      ],
      "execution_count": 3,
      "outputs": []
    },
    {
      "cell_type": "code",
      "metadata": {
        "id": "jaunsQqYDSBf",
        "colab_type": "code",
        "colab": {}
      },
      "source": [
        ""
      ],
      "execution_count": null,
      "outputs": []
    }
  ]
}